{
 "cells": [
  {
   "cell_type": "code",
   "execution_count": 1,
   "metadata": {},
   "outputs": [],
   "source": [
    "import numpy as np\n",
    "import robosuite as suite"
   ]
  },
  {
   "cell_type": "code",
   "execution_count": 2,
   "metadata": {},
   "outputs": [
    {
     "name": "stdout",
     "output_type": "stream",
     "text": [
      "\n"
     ]
    }
   ],
   "source": [
    "# create environment instance\n",
    "env = suite.make(\n",
    "    env_name=\"Lift\",\n",
    "    robots=\"Sawyer\",\n",
    "    has_renderer=False,\n",
    "    has_offscreen_renderer=False,\n",
    "    use_camera_obs=False,\n",
    ")\n",
    "\n",
    "env.reset()\n",
    "print()"
   ]
  },
  {
   "cell_type": "markdown",
   "metadata": {},
   "source": [
    "### Observations from the environment\n",
    "- robot0_joint_pos\n",
    "- robot0_joint_vel\n",
    "- robot0_eef_pos\n",
    "- robot0_eef_quat\n",
    "- robot0_gripper_qpos\n",
    "- robot0_gripper_qvel\n",
    "- robot0_robot-state\n",
    "- cube_pos\n",
    "- cube_quat\n",
    "- robot0_gripper_to_cube\n",
    "- object-state\n",
    "\n",
    "### Rewards\n",
    "- Scalar reward\n",
    "\n",
    "### Done\n",
    "- True/False"
   ]
  },
  {
   "cell_type": "code",
   "execution_count": 13,
   "metadata": {},
   "outputs": [
    {
     "name": "stdout",
     "output_type": "stream",
     "text": [
      "[-1.0535502   1.51953944  1.90258728  0.07622524  1.00180343  1.33581325\n",
      " -0.52069608  0.38458587]\n",
      "observation: OrderedDict([('robot0_joint_pos', array([ 0.01295941, -0.98792033,  0.14080227,  2.06404477, -0.0975651 ,\n",
      "        0.2461586 ,  3.41744537])), ('robot0_joint_vel', array([-0.21867142,  0.17461389,  0.53871748, -0.06499453,  0.47703564,\n",
      "        0.2821803 , -0.31747023])), ('robot0_eef_pos', array([-0.0234402 ,  0.2346277 ,  0.97015812])), ('robot0_eef_quat', array([-0.66115563, -0.73896579, -0.11289094, -0.06370579])), ('robot0_gripper_qpos', array([ 0.00401317, -0.00402652])), ('robot0_gripper_qvel', array([ 0.08083747, -0.08082457])), ('robot0_robot-state', array([ 0.01295905, -0.83488308,  0.14033749,  0.8807994 , -0.09741038,\n",
      "        0.24368017, -0.27236752,  0.99991603,  0.55042733,  0.99010373,\n",
      "       -0.47348961,  0.9952443 ,  0.96985565, -0.96219329, -0.21867142,\n",
      "        0.17461389,  0.53871748, -0.06499453,  0.47703564,  0.2821803 ,\n",
      "       -0.31747023, -0.0234402 ,  0.2346277 ,  0.97015812, -0.66115563,\n",
      "       -0.73896579, -0.11289094, -0.06370579,  0.00401317, -0.00402652,\n",
      "        0.08083747, -0.08082457])), ('cube_pos', array([-0.0083635 , -0.01709837,  0.82063092])), ('cube_quat', array([0.        , 0.        , 0.14834271, 0.98893601])), ('robot0_gripper_to_cube', array([-0.0150767 ,  0.25172607,  0.1495272 ])), ('object-state', array([-0.0083635 , -0.01709837,  0.82063092,  0.        ,  0.        ,\n",
      "        0.14834271,  0.98893601, -0.0150767 ,  0.25172607,  0.1495272 ]))])\n",
      "\n",
      "reward: 0.0\n",
      "\n",
      "done: False\n",
      "\n",
      "info: {}\n",
      "\n"
     ]
    }
   ],
   "source": [
    "for i in range(1):\n",
    "    action = np.random.randn(env.robots[0].dof) # sample random action\n",
    "    print(action)\n",
    "    obs, reward, done, info = env.step(action) # take action in the environment\n",
    "    print(f'observation: {(obs)}\\n')\n",
    "    print(f'reward: {reward}\\n')\n",
    "    print(f'done: {done}\\n')\n",
    "    print(f'info: {info}\\n')"
   ]
  },
  {
   "cell_type": "code",
   "execution_count": 15,
   "metadata": {},
   "outputs": [
    {
     "data": {
      "text/plain": [
       "(array([-0.0083635 , -0.01709837,  0.82063092,  0.        ,  0.        ,\n",
       "         0.14834271,  0.98893601, -0.0150767 ,  0.25172607,  0.1495272 ]),\n",
       " array([ 0.01295905, -0.83488308,  0.14033749,  0.8807994 , -0.09741038,\n",
       "         0.24368017, -0.27236752,  0.99991603,  0.55042733,  0.99010373,\n",
       "        -0.47348961,  0.9952443 ,  0.96985565, -0.96219329, -0.21867142,\n",
       "         0.17461389,  0.53871748, -0.06499453,  0.47703564,  0.2821803 ,\n",
       "        -0.31747023, -0.0234402 ,  0.2346277 ,  0.97015812, -0.66115563,\n",
       "        -0.73896579, -0.11289094, -0.06370579,  0.00401317, -0.00402652,\n",
       "         0.08083747, -0.08082457]))"
      ]
     },
     "execution_count": 15,
     "metadata": {},
     "output_type": "execute_result"
    }
   ],
   "source": [
    "obs['object-state'], obs['robot0_robot-state']"
   ]
  },
  {
   "cell_type": "markdown",
   "metadata": {},
   "source": [
    "### Gym environment support\n",
    "####"
   ]
  },
  {
   "cell_type": "code",
   "execution_count": 16,
   "metadata": {},
   "outputs": [],
   "source": [
    "from robosuite.wrappers import GymWrapper"
   ]
  },
  {
   "cell_type": "code",
   "execution_count": 18,
   "metadata": {},
   "outputs": [
    {
     "name": "stdout",
     "output_type": "stream",
     "text": [
      "adding key: robot0_robot-state\n",
      "adding key: object-state\n"
     ]
    },
    {
     "name": "stderr",
     "output_type": "stream",
     "text": [
      "C:\\Users\\91953\\Anaconda3\\envs\\pfrl\\lib\\site-packages\\gym\\logger.py:30: UserWarning: \u001b[33mWARN: Box bound precision lowered by casting to float32\u001b[0m\n",
      "  warnings.warn(colorize('%s: %s'%('WARN', msg % args), 'yellow'))\n"
     ]
    }
   ],
   "source": [
    "gym_env = GymWrapper(\n",
    "    suite.make(\n",
    "        \"Lift\",\n",
    "        robots=\"Sawyer\",\n",
    "        use_camera_obs=False,\n",
    "        has_offscreen_renderer=False,\n",
    "        has_renderer=False,\n",
    "        reward_shaping=True,\n",
    "        control_freq=20,\n",
    "    )\n",
    ")"
   ]
  },
  {
   "cell_type": "code",
   "execution_count": 22,
   "metadata": {},
   "outputs": [],
   "source": [
    "#gym_env.action_space\n",
    "action = gym_env.action_space.sample()\n",
    "obs, reward, done, info = gym_env.step(action)"
   ]
  },
  {
   "cell_type": "code",
   "execution_count": 26,
   "metadata": {},
   "outputs": [
    {
     "data": {
      "text/plain": [
       "Box(-inf, inf, (42,), float32)"
      ]
     },
     "execution_count": 26,
     "metadata": {},
     "output_type": "execute_result"
    }
   ],
   "source": [
    "gym_env.observation_space"
   ]
  },
  {
   "cell_type": "code",
   "execution_count": 3,
   "metadata": {},
   "outputs": [],
   "source": [
    "import torch"
   ]
  },
  {
   "cell_type": "code",
   "execution_count": 4,
   "metadata": {},
   "outputs": [
    {
     "data": {
      "text/plain": [
       "0"
      ]
     },
     "execution_count": 4,
     "metadata": {},
     "output_type": "execute_result"
    }
   ],
   "source": [
    "torch.cuda.current_device()"
   ]
  },
  {
   "cell_type": "code",
   "execution_count": null,
   "metadata": {},
   "outputs": [],
   "source": [
    "for i_episode in range(20):\n",
    "    observation = env.reset()\n",
    "    for t in range(500):\n",
    "        env.render()\n",
    "        action = env.action_space.sample()"
   ]
  }
 ],
 "metadata": {
  "kernelspec": {
   "display_name": "Python 3",
   "language": "python",
   "name": "python3"
  },
  "language_info": {
   "codemirror_mode": {
    "name": "ipython",
    "version": 3
   },
   "file_extension": ".py",
   "mimetype": "text/x-python",
   "name": "python",
   "nbconvert_exporter": "python",
   "pygments_lexer": "ipython3",
   "version": "3.8.5"
  }
 },
 "nbformat": 4,
 "nbformat_minor": 4
}
