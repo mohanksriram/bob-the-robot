{
 "cells": [
  {
   "cell_type": "code",
   "execution_count": 1,
   "metadata": {},
   "outputs": [],
   "source": [
    "import numpy as np\n",
    "import robosuite as suite"
   ]
  },
  {
   "cell_type": "code",
   "execution_count": 18,
   "metadata": {},
   "outputs": [
    {
     "name": "stdout",
     "output_type": "stream",
     "text": [
      "\n"
     ]
    }
   ],
   "source": [
    "# create environment instance\n",
    "env = suite.make(\n",
    "    env_name=\"Lift\",\n",
    "    robots=\"Sawyer\",\n",
    "    has_renderer=False,\n",
    "    has_offscreen_renderer=False,\n",
    "    use_camera_obs=False,\n",
    ")\n",
    "\n",
    "env.reset()\n",
    "print()"
   ]
  },
  {
   "cell_type": "markdown",
   "metadata": {},
   "source": [
    "### Observations from the environment (Sawyer)\n",
    "- joint position          | robot0_joint_pos (7 dim)\n",
    "- joint velocity          | robot0_joint_vel (7 dim)\n",
    "- end effector position   | robot0_eef_pos   (3 dim)\n",
    "- end effector rotation   | robot0_eef_quat (4 dim)\n",
    "- gripper position        | robot0_gripper_qpos (2 dim)\n",
    "- gripper velocity        | robot0_gripper_qvel (2 dim)\n",
    "- overall robot state     | robot0_robot-state - (32 dim) ref(single-arm.py) (depends on the robotic arm)\n",
    "    1. sin(robot0_joint_pos) (7 dim)\n",
    "    2. cos(robot0_joint_pos) (7 dim)\n",
    "    3. other robot states (18 dim)\n",
    "- cube_pos\n",
    "- cube_quat\n",
    "- robot0_gripper_to_cube\n",
    "- object-state (10 dim) ref(lift.py) (depends on the chosen environment/task)\n",
    "    1. cube_pos (3 dim)\n",
    "    2. cube_quat (rotation) (4 dim)\n",
    "    3. robot0_gripper_to_cube (3 dim)\n",
    "\n",
    "### Rewards\n",
    "- Scalar reward\n",
    "\n",
    "### Done\n",
    "- True/False"
   ]
  },
  {
   "cell_type": "code",
   "execution_count": 19,
   "metadata": {},
   "outputs": [
    {
     "name": "stdout",
     "output_type": "stream",
     "text": [
      "[-0.37891592  0.03030201  0.43327661 -0.79140415 -0.0973005   1.72768553\n",
      " -0.59457935  1.21270954]\n"
     ]
    }
   ],
   "source": [
    "for i in range(1):\n",
    "    action = np.random.randn(env.robots[0].dof) # sample random action\n",
    "    print(action)\n",
    "    obs, reward, done, info = env.step(action) # take action in the environment\n",
    "#     print(f'observation: {(obs)}\\n')\n",
    "#     print(f'reward: {reward}\\n')\n",
    "#     print(f'done: {done}\\n')\n",
    "#     print(f'info: {info}\\n')"
   ]
  },
  {
   "cell_type": "code",
   "execution_count": 20,
   "metadata": {},
   "outputs": [
    {
     "data": {
      "text/plain": [
       "42"
      ]
     },
     "execution_count": 20,
     "metadata": {},
     "output_type": "execute_result"
    }
   ],
   "source": [
    "len(obs['object-state']) + len(obs['robot0_robot-state'])"
   ]
  },
  {
   "cell_type": "code",
   "execution_count": 24,
   "metadata": {},
   "outputs": [],
   "source": [
    "#obs['robot0_robot-state'], obs"
   ]
  },
  {
   "cell_type": "markdown",
   "metadata": {},
   "source": [
    "### Gym environment support"
   ]
  },
  {
   "cell_type": "code",
   "execution_count": 6,
   "metadata": {},
   "outputs": [],
   "source": [
    "from robosuite.wrappers import GymWrapper"
   ]
  },
  {
   "cell_type": "code",
   "execution_count": 7,
   "metadata": {},
   "outputs": [
    {
     "name": "stdout",
     "output_type": "stream",
     "text": [
      "adding key: robot0_robot-state\n",
      "adding key: object-state\n"
     ]
    },
    {
     "name": "stderr",
     "output_type": "stream",
     "text": [
      "C:\\Users\\91953\\Anaconda3\\envs\\pfrl\\lib\\site-packages\\gym\\logger.py:30: UserWarning: \u001b[33mWARN: Box bound precision lowered by casting to float32\u001b[0m\n",
      "  warnings.warn(colorize('%s: %s'%('WARN', msg % args), 'yellow'))\n"
     ]
    }
   ],
   "source": [
    "gym_env = GymWrapper(\n",
    "    suite.make(\n",
    "        \"Lift\",\n",
    "        robots=\"Sawyer\",\n",
    "        use_camera_obs=False,\n",
    "        has_offscreen_renderer=False,\n",
    "        has_renderer=False,\n",
    "        reward_shaping=True,\n",
    "        control_freq=20,\n",
    "    )\n",
    ")"
   ]
  },
  {
   "cell_type": "code",
   "execution_count": 8,
   "metadata": {},
   "outputs": [],
   "source": [
    "#gym_env.action_space\n",
    "action = gym_env.action_space.sample()\n",
    "obs, reward, done, info = gym_env.step(action)"
   ]
  },
  {
   "cell_type": "code",
   "execution_count": 25,
   "metadata": {},
   "outputs": [
    {
     "data": {
      "text/plain": [
       "Box(-inf, inf, (42,), float32)"
      ]
     },
     "execution_count": 25,
     "metadata": {},
     "output_type": "execute_result"
    }
   ],
   "source": [
    "gym_env.observation_space # 42 dimensions, it contains the robot-state + object-state from above"
   ]
  },
  {
   "cell_type": "code",
   "execution_count": 28,
   "metadata": {},
   "outputs": [
    {
     "data": {
      "text/plain": [
       "array([-0.37891592,  0.03030201,  0.43327661, -0.79140415, -0.0973005 ,\n",
       "        1.72768553, -0.59457935,  1.21270954])"
      ]
     },
     "execution_count": 28,
     "metadata": {},
     "output_type": "execute_result"
    }
   ],
   "source": [
    "# 8 dimensions, it contains action_limits = robot degrees of freedom (Sawyer - 7 dim) + controller control limits (1 dim)\n",
    "# ref(osc.py)\n",
    "#gym_env.action_space \n",
    "action"
   ]
  },
  {
   "cell_type": "code",
   "execution_count": 12,
   "metadata": {},
   "outputs": [
    {
     "data": {
      "text/plain": [
       "array([ 0.02708954, -0.9103308 , -0.01245366,  0.80267952,  0.00729927,\n",
       "        0.56043663, -0.15060884,  0.99963301,  0.41388142,  0.99992245,\n",
       "       -0.59641059,  0.99997336,  0.82819731, -0.98859343,  0.00695299,\n",
       "       -0.07916572,  0.00192717,  0.04557523, -0.01784412, -0.20496173,\n",
       "        0.1323188 , -0.14567943,  0.16757051,  1.00268517, -0.69468785,\n",
       "       -0.71789391,  0.03225366,  0.0315727 ,  0.01090604, -0.01087996,\n",
       "       -0.19973008,  0.20027009, -0.0248905 ,  0.02095832,  0.81859601,\n",
       "        0.        ,  0.        ,  0.99779415,  0.06638394, -0.12078893,\n",
       "        0.14661218,  0.18408915])"
      ]
     },
     "execution_count": 12,
     "metadata": {},
     "output_type": "execute_result"
    }
   ],
   "source": [
    "obs"
   ]
  },
  {
   "cell_type": "code",
   "execution_count": 3,
   "metadata": {},
   "outputs": [],
   "source": [
    "import torch"
   ]
  },
  {
   "cell_type": "code",
   "execution_count": 5,
   "metadata": {},
   "outputs": [
    {
     "data": {
      "text/plain": [
       "'GeForce GTX 1660 Ti'"
      ]
     },
     "execution_count": 5,
     "metadata": {},
     "output_type": "execute_result"
    }
   ],
   "source": [
    "torch.cuda.get_device_name(0)"
   ]
  },
  {
   "cell_type": "code",
   "execution_count": null,
   "metadata": {},
   "outputs": [],
   "source": [
    "for i_episode in range(20):\n",
    "    observation = env.reset()\n",
    "    for t in range(500):\n",
    "        env.render()\n",
    "        action = env.action_space.sample()"
   ]
  }
 ],
 "metadata": {
  "kernelspec": {
   "display_name": "Python 3",
   "language": "python",
   "name": "python3"
  },
  "language_info": {
   "codemirror_mode": {
    "name": "ipython",
    "version": 3
   },
   "file_extension": ".py",
   "mimetype": "text/x-python",
   "name": "python",
   "nbconvert_exporter": "python",
   "pygments_lexer": "ipython3",
   "version": "3.8.5"
  }
 },
 "nbformat": 4,
 "nbformat_minor": 4
}
